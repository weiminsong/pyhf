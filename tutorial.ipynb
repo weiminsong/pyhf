{
 "cells": [
  {
   "cell_type": "code",
   "execution_count": 1,
   "metadata": {},
   "outputs": [
    {
     "name": "stdout",
     "output_type": "stream",
     "text": [
      "Populating the interactive namespace from numpy and matplotlib\n"
     ]
    }
   ],
   "source": [
    "%pylab inline\n",
    "from IPython.display import Math\n",
    "import numpy as np\n",
    "import pyhf"
   ]
  },
  {
   "cell_type": "markdown",
   "metadata": {},
   "source": [
    "Computing CLs\n",
    "=============\n",
    "\n",
    "In order to compute CLs you need to know the distribution of the value of the test statistic under a certain hypothesis. The test statistic is just a function of the observed data and the assumed model $f(\\text{data},\\text{model})$.\n",
    "\n",
    "So the asymptotics paper [citation] basically gives some analytic formulae on what these distributions of test statistics look like. However, this makes some particular assumptions about the amount of statistics (events) in your model - so this only holds for a subset of cases."
   ]
  },
  {
   "cell_type": "code",
   "execution_count": 2,
   "metadata": {},
   "outputs": [],
   "source": [
    "def generate_spec(expected_signal, expected_background, observed):\n",
    "    return {\n",
    "    \"channels\": [\n",
    "        {\n",
    "            \"name\": \"region\",\n",
    "            \"samples\": [\n",
    "                {\n",
    "                    \"data\": [\n",
    "                        expected_signal\n",
    "                    ],\n",
    "                    \"modifiers\": [\n",
    "                        {\n",
    "                            \"data\": None,\n",
    "                            \"name\": \"mu_SIG\",\n",
    "                            \"type\": \"normfactor\"\n",
    "                        }\n",
    "                    ],\n",
    "                    \"name\": \"signal\"\n",
    "                },\n",
    "                {\n",
    "                    \"data\": [\n",
    "                        expected_background\n",
    "                    ],\n",
    "                    \"modifiers\": [],\n",
    "                    \"name\": \"background\"\n",
    "                }\n",
    "            ]\n",
    "        }\n",
    "    ],\n",
    "    \"observations\": [{\n",
    "        \"name\": \"region\", \"data\": [\n",
    "            observed\n",
    "        ]}\n",
    "    ],\n",
    "    \"measurements\": [\n",
    "        {\n",
    "            \"config\": {\n",
    "                \"poi\": \"mu_SIG\",\n",
    "                \"parameters\": []\n",
    "            },\n",
    "            \"name\": \"meas\"\n",
    "        }\n",
    "    ],\n",
    "    \"version\": \"1.0.0\"\n",
    "}"
   ]
  },
  {
   "cell_type": "markdown",
   "metadata": {},
   "source": [
    "Asymptotics\n",
    "===========\n",
    "\n",
    "Analytic formula for distribution of test stat\n",
    "\n",
    "\n",
    "Toys\n",
    "====\n",
    "\n",
    "Distribution of test stat approximated using a histogram from fake/sampled data"
   ]
  },
  {
   "cell_type": "code",
   "execution_count": 3,
   "metadata": {},
   "outputs": [
    {
     "name": "stdout",
     "output_type": "stream",
     "text": [
      "Channels: ['region']\n",
      "Samples: ['background', 'signal']\n",
      "Parameters: ['mu_SIG']\n",
      "Modifiers: [('mu_SIG', 'normfactor')]\n"
     ]
    }
   ],
   "source": [
    "expected_signal = 10.0\n",
    "expected_background = 100.0\n",
    "observed = 25.0\n",
    "# generate the spec given above events\n",
    "spec = generate_spec(expected_signal, expected_background, observed)\n",
    "workspace = pyhf.Workspace(spec)\n",
    "print(f'Channels: {workspace.channels}')\n",
    "print(f'Samples: {workspace.samples}')\n",
    "print(f'Parameters: {workspace.parameters}')\n",
    "print(f'Modifiers: {workspace.modifiers}')"
   ]
  },
  {
   "cell_type": "code",
   "execution_count": 4,
   "metadata": {},
   "outputs": [
    {
     "data": {
      "text/plain": [
       "{'config': {'poi': 'mu_SIG', 'parameters': []}, 'name': 'meas'}"
      ]
     },
     "execution_count": 4,
     "metadata": {},
     "output_type": "execute_result"
    }
   ],
   "source": [
    "pdf = workspace.model(measurement_name='meas')\n",
    "data = workspace.data(pdf)\n",
    "# what is the measurement?\n",
    "workspace.get_measurement(measurement_name='meas')"
   ]
  },
  {
   "cell_type": "code",
   "execution_count": 5,
   "metadata": {},
   "outputs": [
    {
     "data": {
      "text/plain": [
       "array([0. , 0.1, 0.2, 0.3, 0.4, 0.5, 0.6, 0.7, 0.8, 0.9, 1. , 1.1, 1.2,\n",
       "       1.3, 1.4, 1.5, 1.6, 1.7, 1.8, 1.9, 2. , 2.1, 2.2, 2.3, 2.4, 2.5,\n",
       "       2.6, 2.7, 2.8, 2.9, 3. ])"
      ]
     },
     "execution_count": 5,
     "metadata": {},
     "output_type": "execute_result"
    }
   ],
   "source": [
    "mu_tests = np.linspace(0, 3, 31)\n",
    "mu_tests"
   ]
  },
  {
   "cell_type": "code",
   "execution_count": 6,
   "metadata": {},
   "outputs": [],
   "source": [
    "hypo_tests = np.array([\n",
    "    pyhf.infer.hypotest(\n",
    "        mu,\n",
    "        data,\n",
    "        pdf,\n",
    "        return_expected_set=True\n",
    "    )\n",
    "    for mu in mu_tests\n",
    "])"
   ]
  },
  {
   "cell_type": "code",
   "execution_count": 7,
   "metadata": {},
   "outputs": [
    {
     "data": {
      "image/png": "[encoded data removed]",
      "text/plain": [
       "<Figure size 504x360 with 1 Axes>"
      ]
     },
     "metadata": {
      "needs_background": "light"
     },
     "output_type": "display_data"
    }
   ],
   "source": [
    "import pyhf.contrib.viz.brazil\n",
    "\n",
    "fig, (ax1) = plt.subplots(1, 1)\n",
    "fig.set_size_inches(7, 5)\n",
    "\n",
    "ax1.set_title(u\"Hypothesis Tests\")\n",
    "ax1.set_ylabel(u\"CLs\")\n",
    "ax1.set_xlabel(u\"µ\")\n",
    "\n",
    "pyhf.contrib.viz.brazil.plot_results(ax1, mu_tests, hypo_tests);"
   ]
  },
  {
   "cell_type": "code",
   "execution_count": 8,
   "metadata": {},
   "outputs": [],
   "source": [
    "# given the hypo_tests, test_mus - interpolate to identify the intersections in the above plot\n",
    "def invert_interval(test_mus, hypo_tests, test_size=0.05):\n",
    "    cls_obs = np.array([test[0] for test in hypo_tests]).flatten()\n",
    "    cls_exp = [\n",
    "        np.array([test[1][i] for test in hypo_tests]).flatten() for i in range(5)\n",
    "    ]\n",
    "    crossing_test_stats = {\"exp\": [], \"obs\": None}\n",
    "    for cls_exp_sigma in cls_exp:\n",
    "        crossing_test_stats[\"exp\"].append(\n",
    "            np.interp(\n",
    "                test_size, list(reversed(cls_exp_sigma)), list(reversed(test_mus))\n",
    "            )\n",
    "        )\n",
    "    crossing_test_stats[\"obs\"] = np.interp(\n",
    "        test_size, list(reversed(cls_obs)), list(reversed(test_mus))\n",
    "    )\n",
    "    return crossing_test_stats"
   ]
  },
  {
   "cell_type": "code",
   "execution_count": 9,
   "metadata": {},
   "outputs": [],
   "source": [
    "mu_expected_approx = 2*np.sqrt(expected_background)/expected_signal\n",
    "mu_observed_approx = 2*np.sqrt(observed)/expected_signal"
   ]
  },
  {
   "cell_type": "code",
   "execution_count": 10,
   "metadata": {},
   "outputs": [
    {
     "data": {
      "text/latex": [
       "$\\displaystyle \\mu_\\text{expected} \\approx 2.00$"
      ],
      "text/plain": [
       "<IPython.core.display.Math object>"
      ]
     },
     "metadata": {},
     "output_type": "display_data"
    },
    {
     "data": {
      "text/latex": [
       "$\\displaystyle \\mu_\\text{observed} \\approx 1.00$"
      ],
      "text/plain": [
       "<IPython.core.display.Math object>"
      ]
     },
     "metadata": {},
     "output_type": "display_data"
    }
   ],
   "source": [
    "display(Math(rf'\\mu_\\text{{expected}} \\approx {mu_expected_approx:.2f}'))\n",
    "display(Math(rf'\\mu_\\text{{observed}} \\approx {mu_observed_approx:.2f}'))"
   ]
  },
  {
   "cell_type": "code",
   "execution_count": 11,
   "metadata": {},
   "outputs": [
    {
     "data": {
      "text/latex": [
       "$\\displaystyle \\mu_\\text{expected} = 2.09$"
      ],
      "text/plain": [
       "<IPython.core.display.Math object>"
      ]
     },
     "metadata": {},
     "output_type": "display_data"
    },
    {
     "data": {
      "text/latex": [
       "$\\displaystyle \\mu_\\text{observed} = 0.88$"
      ],
      "text/plain": [
       "<IPython.core.display.Math object>"
      ]
     },
     "metadata": {},
     "output_type": "display_data"
    }
   ],
   "source": [
    "results = invert_interval(mu_tests, hypo_tests)\n",
    "display(Math(rf'\\mu_\\text{{expected}} = {results[\"exp\"][2]:.2f}'))\n",
    "display(Math(rf'\\mu_\\text{{observed}} = {results[\"obs\"]:.2f}'))"
   ]
  }
 ],
 "metadata": {
  "kernelspec": {
   "display_name": "Python 3",
   "language": "python",
   "name": "python3"
  },
  "language_info": {
   "codemirror_mode": {
    "name": "ipython",
    "version": 3
   },
   "file_extension": ".py",
   "mimetype": "text/x-python",
   "name": "python",
   "nbconvert_exporter": "python",
   "pygments_lexer": "ipython3",
   "version": "3.7.3"
  }
 },
 "nbformat": 4,
 "nbformat_minor": 2
}
